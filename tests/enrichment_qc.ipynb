{
 "cells": [
  {
   "cell_type": "code",
   "execution_count": 11,
   "metadata": {},
   "outputs": [
    {
     "name": "stdout",
     "output_type": "stream",
     "text": [
      "The autoreload extension is already loaded. To reload it, use:\n",
      "  %reload_ext autoreload\n"
     ]
    }
   ],
   "source": [
    "%load_ext autoreload\n",
    "%autoreload 2\n",
    "import ACTIONet as an\n",
    "import scanpy as sc\n"
   ]
  },
  {
   "cell_type": "code",
   "execution_count": 12,
   "metadata": {},
   "outputs": [],
   "source": [
    "#load preprocessed data \n",
    "adata=sc.read_h5ad(\"celsius.h5ad\")"
   ]
  },
  {
   "cell_type": "code",
   "execution_count": 13,
   "metadata": {},
   "outputs": [],
   "source": [
    "labels=adata.obs['cell_line']"
   ]
  },
  {
   "cell_type": "code",
   "execution_count": 14,
   "metadata": {},
   "outputs": [
    {
     "data": {
      "text/plain": [
       "HEK293    1600\n",
       "HCT116    1400\n",
       "IMR90      500\n",
       "A549       400\n",
       "K562       380\n",
       "Ramos      350\n",
       "H1437      270\n",
       "Jurkat     100\n",
       "Name: cell_line, dtype: int64"
      ]
     },
     "execution_count": 14,
     "metadata": {},
     "output_type": "execute_result"
    }
   ],
   "source": [
    "labels.value_counts()"
   ]
  },
  {
   "cell_type": "code",
   "execution_count": 15,
   "metadata": {},
   "outputs": [
    {
     "data": {
      "text/plain": [
       "['HEK293', 'HCT116', 'IMR90', 'A549', 'K562', 'Ramos', 'H1437', 'Jurkat']"
      ]
     },
     "execution_count": 15,
     "metadata": {},
     "output_type": "execute_result"
    }
   ],
   "source": [
    "labels.value_counts().index.tolist()"
   ]
  },
  {
   "cell_type": "code",
   "execution_count": 16,
   "metadata": {},
   "outputs": [
    {
     "data": {
      "text/plain": [
       "AnnData object with n_obs × n_vars = 5000 × 23848\n",
       "    obs: 'cell_idx', 'Batch', 'cell_line', 'cell_cycle_phase', 'G1', 'S', 'G2M', 'total_counts', 'log10_total_counts', 'filter_on_total_counts', 'total_features', 'log10_total_features', 'filter_on_total_features', 'pct_dropout', 'exprs_feature_controls_MT', 'pct_exprs_feature_controls_MT', 'filter_on_pct_exprs_feature_controls_MT', 'counts_feature_controls_MT', 'pct_counts_feature_controls_MT', 'filter_on_pct_counts_feature_controls_MT', 'n_detected_feature_controls_MT', 'n_detected_feature_controls', 'counts_feature_controls', 'pct_counts_feature_controls', 'filter_on_pct_counts_feature_controls', 'pct_counts_top_50_features', 'pct_counts_top_100_features', 'pct_counts_top_200_features', 'pct_counts_top_500_features', 'pct_counts_top_50_endogenous_features', 'pct_counts_top_100_endogenous_features', 'pct_counts_top_200_endogenous_features', 'pct_counts_top_500_endogenous_features', 'counts_endogenous_features', 'log10_counts_feature_controls_MT', 'log10_counts_feature_controls', 'log10_counts_endogenous_features', 'is_cell_control', 'assigned_archetype', 'node_centrality'\n",
       "    var: 'gene_id', 'chr', 'symbol', 'gene_biotype', 'mean_exprs', 'exprs_rank', 'n_cells_exprs', 'total_feature_exprs', 'pct_total_exprs', 'pct_dropout', 'total_feature_counts', 'log10_total_feature_counts', 'pct_total_counts', 'is_feature_control_MT', 'is_feature_control'\n",
       "    uns: 'ACTION', 'metadata', 'obsm_annot', 'varm_annot'\n",
       "    obsm: 'ACTION', 'ACTION_B', 'ACTIONet2D', 'ACTIONet3D', 'ACTIONred', 'C_stacked', 'C_unified', 'H_stacked', 'H_unified', 'archetype_footprint', 'denovo_color'\n",
       "    varm: 'ACTION_A', 'ACTION_V', 'unified_feature_profile', 'unified_feature_specificity'\n",
       "    layers: 'counts'\n",
       "    obsp: 'ACTIONet'"
      ]
     },
     "execution_count": 16,
     "metadata": {},
     "output_type": "execute_result"
    }
   ],
   "source": [
    "adata"
   ]
  },
  {
   "cell_type": "code",
   "execution_count": 87,
   "metadata": {},
   "outputs": [],
   "source": [
    "from ACTIONet.tools._enrichment import * \n",
    "np.random.seed(0)\n",
    "A=adata.obsp['ACTIONet']\n",
    "#if labels is a list of strings, change them to a numerical encoding\n",
    "labels=string_list_to_int_list(labels)\n",
    "w=A.data\n",
    "s0=sum(w)\n",
    "s1=sum(4*w**2)/2\n",
    "s2=int(sum(np.power(A.sum(axis=1)+A.sum(axis=0).transpose(),2)))\n",
    "A=A.tocoo()\n",
    "#phi=compute_phi(A,labels,s0,s1,s2)\n"
   ]
  },
  {
   "cell_type": "code",
   "execution_count": 91,
   "metadata": {},
   "outputs": [],
   "source": [
    "n=len(labels)\n",
    "counts=pd.Series(labels).value_counts()\n",
    "categories=counts.index.tolist()\n",
    "w=A.data"
   ]
  },
  {
   "cell_type": "code",
   "execution_count": 95,
   "metadata": {},
   "outputs": [],
   "source": [
    "pvec=counts/n\n",
    "k=len(pvec)"
   ]
  },
  {
   "cell_type": "code",
   "execution_count": 101,
   "metadata": {},
   "outputs": [
    {
     "data": {
      "text/plain": [
       "1        30.517578\n",
       "0        45.553936\n",
       "2      1000.000000\n",
       "3      1953.125000\n",
       "6      2278.028867\n",
       "4      2915.451895\n",
       "5      6350.657928\n",
       "7    125000.000000\n",
       "dtype: float64"
      ]
     },
     "execution_count": 101,
     "metadata": {},
     "output_type": "execute_result"
    }
   ],
   "source": [
    "np.power(1/pvec,3)"
   ]
  },
  {
   "cell_type": "code",
   "execution_count": 103,
   "metadata": {},
   "outputs": [
    {
     "data": {
      "text/plain": [
       "3498.9180817204083"
      ]
     },
     "execution_count": 103,
     "metadata": {},
     "output_type": "execute_result"
    }
   ],
   "source": [
    "np.matmul((1/pvec),np.transpose(1/pvec))"
   ]
  },
  {
   "cell_type": "code",
   "execution_count": 108,
   "metadata": {},
   "outputs": [
    {
     "ename": "ModuleNotFoundError",
     "evalue": "No module named 'scipy.stats.norm'",
     "output_type": "error",
     "traceback": [
      "\u001b[0;31m---------------------------------------------------------------------------\u001b[0m",
      "\u001b[0;31mModuleNotFoundError\u001b[0m                       Traceback (most recent call last)",
      "\u001b[0;32m<ipython-input-108-cff0a9576f7a>\u001b[0m in \u001b[0;36m<module>\u001b[0;34m\u001b[0m\n\u001b[0;32m----> 1\u001b[0;31m \u001b[0;32mfrom\u001b[0m \u001b[0mscipy\u001b[0m\u001b[0;34m.\u001b[0m\u001b[0mstats\u001b[0m\u001b[0;34m.\u001b[0m\u001b[0mnorm\u001b[0m \u001b[0;32mimport\u001b[0m \u001b[0mpnorm\u001b[0m\u001b[0;34m\u001b[0m\u001b[0;34m\u001b[0m\u001b[0m\n\u001b[0m",
      "\u001b[0;31mModuleNotFoundError\u001b[0m: No module named 'scipy.stats.norm'"
     ]
    }
   ],
   "source": [
    "from scipy.stats.norm import pnorm \n"
   ]
  },
  {
   "cell_type": "code",
   "execution_count": 73,
   "metadata": {},
   "outputs": [
    {
     "name": "stdout",
     "output_type": "stream",
     "text": [
      "(5000, 1)\n",
      "(5000, 1)\n"
     ]
    }
   ],
   "source": [
    "import numpy as np \n",
    "b=A.sum(axis=1)\n",
    "c=A.sum(axis=0).transpose()\n",
    "print(b.shape)\n",
    "print(c.shape)"
   ]
  },
  {
   "cell_type": "code",
   "execution_count": 77,
   "metadata": {},
   "outputs": [
    {
     "data": {
      "text/plain": [
       "112318334"
      ]
     },
     "execution_count": 77,
     "metadata": {},
     "output_type": "execute_result"
    }
   ],
   "source": [
    "int(sum(np.power(b+c,2)))"
   ]
  },
  {
   "cell_type": "code",
   "execution_count": 129,
   "metadata": {},
   "outputs": [],
   "source": [
    "A=A.tocoo()"
   ]
  },
  {
   "cell_type": "code",
   "execution_count": 135,
   "metadata": {},
   "outputs": [
    {
     "name": "stderr",
     "output_type": "stream",
     "text": [
      "/home/ubuntu/ACTIONet/ACTIONet/tools/_enrichment.py:64: RuntimeWarning: divide by zero encountered in log10\n",
      "  phi_logPval=-1*np.log10(scipy.stats.norm.sf(phi_z))\n"
     ]
    },
    {
     "data": {
      "text/plain": [
       "(302.03256913338595, inf, 39917032)"
      ]
     },
     "execution_count": 135,
     "metadata": {},
     "output_type": "execute_result"
    }
   ],
   "source": [
    "compute_phi(A,labels,s0,s1,s2)"
   ]
  },
  {
   "cell_type": "code",
   "execution_count": 111,
   "metadata": {},
   "outputs": [
    {
     "data": {
      "text/plain": [
       "array([2, 4, 2, 1, 1])"
      ]
     },
     "execution_count": 111,
     "metadata": {},
     "output_type": "execute_result"
    }
   ],
   "source": [
    "np.random.choice([1,2,3,4,5],5)"
   ]
  },
  {
   "cell_type": "code",
   "execution_count": 150,
   "metadata": {},
   "outputs": [
    {
     "name": "stderr",
     "output_type": "stream",
     "text": [
      "/home/ubuntu/ACTIONet/ACTIONet/tools/_enrichment.py:65: RuntimeWarning: divide by zero encountered in log10\n",
      "  phi_logPval=-1*np.log10(scipy.stats.norm.sf(phi_z))\n"
     ]
    },
    {
     "data": {
      "text/plain": [
       "298.94338530359704"
      ]
     },
     "execution_count": 150,
     "metadata": {},
     "output_type": "execute_result"
    }
   ],
   "source": [
    "assess_categorical_autocorrelation(adata,adata.obs['cell_line'],perm_no=100)"
   ]
  },
  {
   "cell_type": "code",
   "execution_count": 153,
   "metadata": {},
   "outputs": [
    {
     "data": {
      "text/plain": [
       "[4, 2, 1, 3]"
      ]
     },
     "execution_count": 153,
     "metadata": {},
     "output_type": "execute_result"
    }
   ],
   "source": [
    "import random \n",
    "a=[1,2,3,4]\n",
    "random.seed(0)\n",
    "random.sample(a,4)"
   ]
  },
  {
   "cell_type": "code",
   "execution_count": 115,
   "metadata": {},
   "outputs": [
    {
     "data": {
      "text/plain": [
       "<bound method rv_continuous.sf of <scipy.stats._continuous_distns.norm_gen object at 0x7f806a8b6cd0>>"
      ]
     },
     "execution_count": 115,
     "metadata": {},
     "output_type": "execute_result"
    }
   ],
   "source": [
    "scipy.stats.norm.sf"
   ]
  },
  {
   "cell_type": "code",
   "execution_count": 123,
   "metadata": {},
   "outputs": [
    {
     "data": {
      "text/plain": [
       "array([ 4, 10, 18])"
      ]
     },
     "execution_count": 123,
     "metadata": {},
     "output_type": "execute_result"
    }
   ],
   "source": [
    "np.array([1,2,3])*np.array([4,5,6])\n"
   ]
  },
  {
   "cell_type": "code",
   "execution_count": null,
   "metadata": {},
   "outputs": [],
   "source": [
    "400  270 1400 1600  500  100  380  350 "
   ]
  }
 ],
 "metadata": {
  "kernelspec": {
   "display_name": "Python 3",
   "language": "python",
   "name": "python3"
  },
  "language_info": {
   "codemirror_mode": {
    "name": "ipython",
    "version": 3
   },
   "file_extension": ".py",
   "mimetype": "text/x-python",
   "name": "python",
   "nbconvert_exporter": "python",
   "pygments_lexer": "ipython3",
   "version": "3.8.5"
  }
 },
 "nbformat": 4,
 "nbformat_minor": 4
}
